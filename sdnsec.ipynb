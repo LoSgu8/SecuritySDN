{
 "cells": [
  {
   "cell_type": "code",
   "execution_count": 9,
   "id": "45d523fc",
   "metadata": {},
   "outputs": [
    {
     "name": "stdout",
     "output_type": "stream",
     "text": [
      "Requirement already satisfied: msgpack in c:\\users\\giaco\\anaconda3\\lib\\site-packages (1.0.2)\n"
     ]
    }
   ],
   "source": [
    "!pip install msgpack"
   ]
  },
  {
   "cell_type": "code",
   "execution_count": 34,
   "id": "d9a570d8",
   "metadata": {},
   "outputs": [],
   "source": [
    "# Create json configuration file (conf.json) containing initial values of controller_ip, auth_port, shared_key, next_ctr\n",
    "import json\n",
    "\n",
    "conf_dict = {\n",
    "    \"controller_ip\" : \"10.0.0.1\",\n",
    "    \"auth_port\" : 50000,\n",
    "    \"master_key\" : \"abracadabra\",\n",
    "    \"next_ctr\" : 1\n",
    "}\n",
    "  \n",
    "with open(\"conf.json\", \"w\") as config_file:\n",
    "    json.dump(conf_dict, config_file)"
   ]
  },
  {
   "cell_type": "markdown",
   "id": "33daec1c",
   "metadata": {},
   "source": [
    "## Client Side"
   ]
  },
  {
   "cell_type": "markdown",
   "id": "1188ca44",
   "metadata": {},
   "source": [
    "#### IMPORT BLOCK"
   ]
  },
  {
   "cell_type": "code",
   "execution_count": 1,
   "id": "3828bd52",
   "metadata": {},
   "outputs": [],
   "source": [
    "import msgpack\n",
    "import hmac\n",
    "import hashlib\n",
    "import json\n",
    "import socket\n",
    "import hashlib"
   ]
  },
  {
   "cell_type": "markdown",
   "id": "b7591d9a",
   "metadata": {},
   "source": [
    "#### PARAMETERS BLOCK"
   ]
  },
  {
   "cell_type": "code",
   "execution_count": 2,
   "id": "7d58b415",
   "metadata": {},
   "outputs": [],
   "source": [
    "# PARAMETERS\n",
    "max_nb_attempts = 5 # stop after max_nb_attempts unanswered auth requests\n",
    "reception_timeout = 2 # wait up to reception_timeout sec for the response, if no answers are received in that time resend it by changing ctr\n",
    "# Service for which authentication is asked \n",
    "server_ip = '10.0.0.7'\n",
    "server_port = 22"
   ]
  },
  {
   "cell_type": "markdown",
   "id": "9dd60401",
   "metadata": {},
   "source": [
    "#### FUNCTIONS BLOCK"
   ]
  },
  {
   "cell_type": "code",
   "execution_count": 3,
   "id": "f09fa6a2",
   "metadata": {},
   "outputs": [],
   "source": [
    "# Generate and returns an auth request ready to be sent\n",
    "def make_auth_request(server_ip, server_port, ctr, transport_layer, client_ip, shared_key):\n",
    "    # json request\n",
    "    request_data_dict = {\n",
    "      'server': server_ip,\n",
    "      'dport': server_port,\n",
    "      'ctr': ctr,\n",
    "      'tcp_udp' : transport_layer,\n",
    "      'my_ip': client_ip, \n",
    "      'hmac': 0\n",
    "    }\n",
    "\n",
    "    # Serialize request_data_dict\n",
    "    request_data_raw = msgpack.packb(request_data_dict)\n",
    "\n",
    "    # Generate a message authentication code of request_data_raw based on \n",
    "    # the shared_key and secure hashing algorithm SHA256 using hmac module\n",
    "    hmac1 = hmac.new(key=shared_key.digest(), digestmod=hashlib.sha256)\n",
    "    hmac1.update(request_data_raw)\n",
    "    message_digest = hmac1.digest()\n",
    "    \n",
    "    # Insert the computed HMAC in hmac value of the request dictionary\n",
    "    request_data_dict['hmac'] = message_digest\n",
    "    \n",
    "    # Serialize request_data_dict with the updated HMAC\n",
    "    auth_request = msgpack.packb(request_data_dict)\n",
    "    \n",
    "    return auth_request\n",
    "\n",
    "# Given the an auth request/reply message returns True if it is authenticated\n",
    "def is_msg_authenticated(rcv_message, hash_key):\n",
    "    rcv_hmac = rcv_message['hmac']\n",
    "\n",
    "    # Compute the HMAC of the modified authentication request (hmac=0)\n",
    "    rcv_message['hmac'] = 0\n",
    "    modified_json = msgpack.packb(rcv_message)\n",
    "    computed_hmac = hmac.new(key=hash_key.digest(), digestmod=hashlib.sha256)\n",
    "    computed_hmac.update(modified_json)\n",
    "    message_digest = computed_hmac.digest()\n",
    "\n",
    "    # Compare the computed HMAC with the received one\n",
    "    return hmac.compare_digest(rcv_hmac, message_digest)"
   ]
  },
  {
   "cell_type": "markdown",
   "id": "a06bbeab",
   "metadata": {},
   "source": [
    "#### MAIN BLOCK"
   ]
  },
  {
   "cell_type": "code",
   "execution_count": 4,
   "id": "b4d52c32",
   "metadata": {},
   "outputs": [
    {
     "name": "stdout",
     "output_type": "stream",
     "text": [
      "Obtained the following shared keys:\n",
      "\tclient a58d5780edcda77be40f6b35399a34f98153dcf3be932f0a1f02d97797d79ff0\n",
      "\tcontroller fa58fa94f651190c0cef348590ebda5b08cce9de1327a32f7baac778d6209c39\n",
      "Authentication request sent with counter 11\n",
      "\tReply not received from controller\n",
      "Authentication request sent with counter 12\n",
      "\tReply not received from controller\n",
      "Authentication request sent with counter 13\n",
      "\tReply not received from controller\n",
      "Authentication request sent with counter 14\n",
      "\tReply not received from controller\n",
      "Authentication request sent with counter 15\n",
      "\tReply not received from controller\n",
      "*** Unable to reach the controller after 5 attempts. Try later ***\n"
     ]
    }
   ],
   "source": [
    "# Read conf.json to retrieve parameters to perform the authentication request\n",
    "with open('conf.json', 'r') as config_file:\n",
    "    config_json = json.load(config_file)\n",
    "    controller_ip = config_json[\"controller_ip\"]\n",
    "    auth_port = config_json[\"auth_port\"]\n",
    "    master_key = config_json[\"master_key\"]\n",
    "    ctr = config_json[\"next_ctr\"]\n",
    "\n",
    "# Get the two symmetric keys from the master key for HMAC generation\n",
    "my_shared_key = hashlib.sha256(str.encode(master_key+'0'))\n",
    "controller_shared_key = hashlib.sha256(str.encode(master_key+'1'))\n",
    "print(\"Obtained the following shared keys:\\n\\tclient {}\\n\\tcontroller {}\".format(my_shared_key.hexdigest(), controller_shared_key.hexdigest()))\n",
    "\n",
    "# Retrieve my ip -> required later for auth request\n",
    "local_ip = socket.gethostbyname(socket.gethostname())\n",
    "\n",
    "# --- Perform the authentication request ---\n",
    "has_srv_replied = False\n",
    "nb_attempts = 0\n",
    "authorised_by_controller = False\n",
    "\n",
    "while (not authorised_by_controller) or (not has_srv_replied and nb_attempts < max_nb_attempts):\n",
    "    \n",
    "    # Generate auth request\n",
    "    auth_request = make_auth_request(server_ip, server_port, ctr, 'tcp', local_ip, my_shared_key)\n",
    "    # Use socket to send the auth request and retrieve the auth reply from controller\n",
    "    sock = socket.socket(socket.AF_INET,socket.SOCK_DGRAM)\n",
    "    sock.settimeout(reception_timeout)\n",
    "    sock.sendto(auth_request, (controller_ip, auth_port))\n",
    "    nb_attempts += 1\n",
    "    print(\"Authentication request sent with counter {}\".format(ctr))\n",
    "    try:\n",
    "        rcv_message, rcv_address = sock.recvfrom(1024)\n",
    "        rcv_ip = rcv_address[0]\n",
    "        # Accept responses only from controller IP\n",
    "        if rcv_ip == controller_ip:\n",
    "            # check authentication\n",
    "            if is_msg_authenticated(rcv_message, controller_shared_key):\n",
    "                has_srv_replied = True\n",
    "                # check if controller granted the authentication\n",
    "                unpacked_auth_reply = msgpack.unpackb(rcv_message)\n",
    "                print('\\tController replied with {}'.format(unpacked_auth_reply['code']))\n",
    "                if unpacked_auth_reply['code'] == \"202 Authentication Accepted\":\n",
    "                    authorised_by_controller = True\n",
    "                    # Update ctr\n",
    "                    ctr = unpacked_auth_reply['expected_ctr']\n",
    "                elif unpacked_auth_reply['code'] == \"449 Retry With\":\n",
    "                    print('\\tUpdating counter to {} and increasing max_nb_attempts value'.format(unpacked_auth_reply['expected_ctr']))\n",
    "                    ctr = unpacked_auth_reply['expected_ctr']\n",
    "                    max_nb_attempts = max_nb_attempts + nb_attempts                    \n",
    "            else:\n",
    "                print('Received a non authenticated message from controller IP')\n",
    "                ctr += 1            \n",
    "        else:\n",
    "            print(\"\\tReceived a packet but not from controller ({})\".format(rcv_ip))\n",
    "    except socket.timeout:\n",
    "        print(\"\\tReply not received from controller\")\n",
    "        ctr += 1 # Should we increase the counter here?\n",
    "        continue\n",
    "\n",
    "# Once the authentication phase has been completed successfully, close the socket\n",
    "sock.close()\n",
    "\n",
    "# In case of no answer from controller or no authorization -> stop here\n",
    "if not has_srv_replied:\n",
    "    print('*** Unable to reach the controller after {} attempts. Try later ***'.format(max_nb_attempts))\n",
    "    exit()\n",
    "if not authorised_by_controller:\n",
    "    print('*** Not authorized by controller. Check the shared key ***'.format(max_nb_attempts))\n",
    "    exit()\n",
    "    \n",
    "# --- Update next_ctr value in config.json ---\n",
    "with open('conf.json', 'r') as config_file:\n",
    "    config_json = json.load(config_file)\n",
    "\n",
    "config_json[\"next_ctr\"] = ctr\n",
    "\n",
    "with open('conf.json', 'w') as config_file:\n",
    "    json.dump(config_json, config_file)\n",
    "    \n",
    "# OPEN SOCKET WITH SERVER"
   ]
  },
  {
   "cell_type": "markdown",
   "id": "24ddb6ac",
   "metadata": {},
   "source": [
    "## Controller Side"
   ]
  },
  {
   "cell_type": "markdown",
   "id": "0ac278c1",
   "metadata": {},
   "source": [
    "####  IMPORT BLOCK"
   ]
  },
  {
   "cell_type": "code",
   "execution_count": null,
   "id": "6725be12",
   "metadata": {},
   "outputs": [],
   "source": [
    "import msgpack\n",
    "import hmac\n",
    "import hashlib\n",
    "import json\n",
    "import socket\n",
    "import hashlib"
   ]
  },
  {
   "cell_type": "markdown",
   "id": "02db4170",
   "metadata": {},
   "source": [
    "####  PARAMETER BLOCK"
   ]
  },
  {
   "cell_type": "code",
   "execution_count": 1,
   "id": "8fff44bc",
   "metadata": {},
   "outputs": [],
   "source": [
    "# Define the margin for which the ctr is accepted\n",
    "ctr_margin = 5"
   ]
  },
  {
   "cell_type": "markdown",
   "id": "3ddf0f2a",
   "metadata": {},
   "source": [
    "#### FUNCTIONS BLOCK"
   ]
  },
  {
   "cell_type": "code",
   "execution_count": 30,
   "id": "a85efe81",
   "metadata": {},
   "outputs": [],
   "source": [
    "# Given the unpacked authentication message,\n",
    "# returns True if it is correct (it is a dict and contains at least the required fields),\n",
    "# False otherwise\n",
    "def is_req_auth_correct(unpacked_auth_msg):\n",
    "    correct = False\n",
    "    \n",
    "    expected_fields = set(['server', 'dport', 'ctr', 'tcp_udp', \n",
    "                           'my_ip', 'hmac'])\n",
    "    \n",
    "    # check if it is a dictionary\n",
    "    if type(unpacked_json) is dict:\n",
    "        # Check that it contains all the expected fields\n",
    "        if expected_fields.issubset(unpacked_auth_msg.keys()):\n",
    "            correct = True\n",
    "    return correct\n",
    "\n",
    "# Given the an auth request/reply message returns True if it is authenticated\n",
    "def is_msg_authenticated(rcv_message, hash_key):\n",
    "    rcv_hmac = rcv_message['hmac']\n",
    "\n",
    "    # Compute the HMAC of the modified authentication request (hmac=0)\n",
    "    rcv_message['hmac'] = 0\n",
    "    modified_json = msgpack.packb(rcv_message)\n",
    "    computed_hmac = hmac.new(key=hash_key.digest(), digestmod=hashlib.sha256)\n",
    "    computed_hmac.update(modified_json)\n",
    "    message_digest = computed_hmac.digest()\n",
    "\n",
    "    # Compare the computed HMAC with the received one\n",
    "    return hmac.compare_digest(rcv_hmac, message_digest)\n",
    "\n",
    "# Generate and returns an auth reply ready to be sent\n",
    "def make_auth_reply(code, expected_ctr, shared_key):\n",
    "    # json request\n",
    "    reply_data_dict = {\n",
    "      'code': code,\n",
    "      'expected_ctr': expected_ctr,\n",
    "      'hmac': 0\n",
    "    }\n",
    "\n",
    "    # Serialize request_data_dict\n",
    "    reply_data_raw = msgpack.packb(reply_data_dict)\n",
    "\n",
    "    # Generate a message authentication code of request_data_raw based on \n",
    "    # the shared_key and secure hashing algorithm SHA256 using hmac module\n",
    "    hmac1 = hmac.new(key=shared_key.digest(), digestmod=hashlib.sha256)\n",
    "    hmac1.update(reply_data_raw)\n",
    "    message_digest = hmac1.digest()\n",
    "    \n",
    "    # Insert the computed HMAC in hmac value of the request dictionary\n",
    "    reply_data_dict['hmac'] = message_digest\n",
    "    \n",
    "    # Serialize request_data_dict with the updated HMAC\n",
    "    auth_reply = msgpack.packb(reply_data_dict)\n",
    "    \n",
    "    return auth_reply"
   ]
  },
  {
   "cell_type": "markdown",
   "id": "c1320a09",
   "metadata": {},
   "source": [
    "#### MAIN BLOCK"
   ]
  },
  {
   "cell_type": "code",
   "execution_count": 2,
   "id": "bae6a569",
   "metadata": {},
   "outputs": [
    {
     "ename": "NameError",
     "evalue": "name 'json' is not defined",
     "output_type": "error",
     "traceback": [
      "\u001b[1;31m---------------------------------------------------------------------------\u001b[0m",
      "\u001b[1;31mNameError\u001b[0m                                 Traceback (most recent call last)",
      "Input \u001b[1;32mIn [2]\u001b[0m, in \u001b[0;36m<cell line: 4>\u001b[1;34m()\u001b[0m\n\u001b[0;32m      3\u001b[0m \u001b[38;5;66;03m# Get master key and counter values from conf.json\u001b[39;00m\n\u001b[0;32m      4\u001b[0m \u001b[38;5;28;01mwith\u001b[39;00m \u001b[38;5;28mopen\u001b[39m(\u001b[38;5;124m'\u001b[39m\u001b[38;5;124mconf.json\u001b[39m\u001b[38;5;124m'\u001b[39m, \u001b[38;5;124m'\u001b[39m\u001b[38;5;124mr\u001b[39m\u001b[38;5;124m'\u001b[39m) \u001b[38;5;28;01mas\u001b[39;00m config_file:\n\u001b[1;32m----> 5\u001b[0m     config_json \u001b[38;5;241m=\u001b[39m \u001b[43mjson\u001b[49m\u001b[38;5;241m.\u001b[39mload(config_file)\n\u001b[0;32m      6\u001b[0m     master_key \u001b[38;5;241m=\u001b[39m config_json[\u001b[38;5;124m\"\u001b[39m\u001b[38;5;124mmaster_key\u001b[39m\u001b[38;5;124m\"\u001b[39m]\n\u001b[0;32m      7\u001b[0m     expected_ctr \u001b[38;5;241m=\u001b[39m config_json[\u001b[38;5;124m\"\u001b[39m\u001b[38;5;124mnext_ctr\u001b[39m\u001b[38;5;124m\"\u001b[39m]\n",
      "\u001b[1;31mNameError\u001b[0m: name 'json' is not defined"
     ]
    }
   ],
   "source": [
    "authorised = False\n",
    "\n",
    "# Get master key and counter values from conf.json\n",
    "with open('conf.json', 'r') as config_file:\n",
    "    config_json = json.load(config_file)\n",
    "    master_key = config_json[\"master_key\"]\n",
    "    expected_ctr = config_json[\"next_ctr\"]\n",
    "\n",
    "# Get shared keys from master key\n",
    "client_shared_key = hashlib.sha256(str.encode(master_key+'0'))\n",
    "controller_shared_key = hashlib.sha256(str.encode(master_key+'1'))\n",
    "print(\"Obtained the following shared keys:\\n\\tclient {}\\n\\tcontroller {}\".format(my_shared_key.hexdigest(), controller_shared_key.hexdigest()))\n",
    "\n",
    "# ----- Analyze the received packet -----\n",
    "# Unpack the received authentication message \n",
    "unpacked_auth_request = msgpack.unpackb(auth_request)\n",
    "\n",
    "# Check its correctness (it is a json with all the required fields)\n",
    "correct = is_req_auth_correct(unpacked_auth_request)\n",
    "\n",
    "rcv_ctr = unpacked_auth_msg['ctr']\n",
    "\n",
    "if correct:\n",
    "    authenticated = is_msg_authenticated(unpacked_auth_request, client_shared_key)\n",
    "    if authenticated:\n",
    "        print('Authenticated message:')\n",
    "        print(\"\\t\", unpacked_auth_msg)\n",
    "        # Check if ctr is valid\n",
    "        if rcv_ctr in range(expected_ctr, expected_ctr + ctr_margin):\n",
    "            code = '202 Authentication Accepted'\n",
    "            expected_ctr = rcv_ctr + 1\n",
    "            authorised = True\n",
    "        else: # authenticated but not valid ctr -> not accepted\n",
    "            code = '449 Retry With'\n",
    "    else: # message not authenticated\n",
    "        code = '401 Unauthorized'\n",
    "else: # received message not correct \n",
    "    code = '400 Bad Request'\n",
    "    \n",
    "# ----- Send the auth reply -----\n",
    "# Generate auth reply\n",
    "auth_reply = make_auth_reply(code, expected_ctr, controller_shared_key)\n",
    "print(msgpack.unpackb(auth_reply))\n",
    "# send it\n",
    "\n",
    "# ----- Installing rules -----\n",
    "#if authorised:\n",
    "    # install the following rules\n",
    "    # - route from client to server\n",
    "    # - match to controller in reverse direction\n"
   ]
  },
  {
   "cell_type": "code",
   "execution_count": null,
   "id": "691eaf6b",
   "metadata": {},
   "outputs": [],
   "source": []
  }
 ],
 "metadata": {
  "kernelspec": {
   "display_name": "Python 3 (ipykernel)",
   "language": "python",
   "name": "python3"
  },
  "language_info": {
   "codemirror_mode": {
    "name": "ipython",
    "version": 3
   },
   "file_extension": ".py",
   "mimetype": "text/x-python",
   "name": "python",
   "nbconvert_exporter": "python",
   "pygments_lexer": "ipython3",
   "version": "3.9.12"
  }
 },
 "nbformat": 4,
 "nbformat_minor": 5
}
